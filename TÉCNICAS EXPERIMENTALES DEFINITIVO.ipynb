{
 "cells": [
  {
   "cell_type": "code",
   "execution_count": 2,
   "id": "6c7e6519",
   "metadata": {},
   "outputs": [],
   "source": [
    "# Importación de librerías para el manejo y análisis de datos\n",
    "import pandas as pd\n",
    "from pandas.plotting import scatter_matrix\n",
    "from pandas import ExcelWriter\n",
    "from pandas import ExcelFile\n",
    "from openpyxl import load_workbook\n",
    "import numpy as np\n",
    "from scipy.stats import norm, skew\n",
    "from scipy import stats\n",
    "import statsmodels.api as sm\n",
    "import warnings\n",
    "warnings.filterwarnings('ignore')"
   ]
  },
  {
   "cell_type": "code",
   "execution_count": 3,
   "id": "6a511386",
   "metadata": {},
   "outputs": [
    {
     "data": {
      "text/html": [
       "        <script type=\"text/javascript\">\n",
       "        window.PlotlyConfig = {MathJaxConfig: 'local'};\n",
       "        if (window.MathJax) {MathJax.Hub.Config({SVG: {font: \"STIX-Web\"}});}\n",
       "        if (typeof require !== 'undefined') {\n",
       "        require.undef(\"plotly\");\n",
       "        requirejs.config({\n",
       "            paths: {\n",
       "                'plotly': ['https://cdn.plot.ly/plotly-2.11.1.min']\n",
       "            }\n",
       "        });\n",
       "        require(['plotly'], function(Plotly) {\n",
       "            window._Plotly = Plotly;\n",
       "        });\n",
       "        }\n",
       "        </script>\n",
       "        "
      ]
     },
     "metadata": {},
     "output_type": "display_data"
    },
    {
     "data": {
      "text/html": [
       "        <script type=\"text/javascript\">\n",
       "        window.PlotlyConfig = {MathJaxConfig: 'local'};\n",
       "        if (window.MathJax) {MathJax.Hub.Config({SVG: {font: \"STIX-Web\"}});}\n",
       "        if (typeof require !== 'undefined') {\n",
       "        require.undef(\"plotly\");\n",
       "        requirejs.config({\n",
       "            paths: {\n",
       "                'plotly': ['https://cdn.plot.ly/plotly-2.11.1.min']\n",
       "            }\n",
       "        });\n",
       "        require(['plotly'], function(Plotly) {\n",
       "            window._Plotly = Plotly;\n",
       "        });\n",
       "        }\n",
       "        </script>\n",
       "        "
      ]
     },
     "metadata": {},
     "output_type": "display_data"
    },
    {
     "data": {
      "text/html": [
       "        <script type=\"text/javascript\">\n",
       "        window.PlotlyConfig = {MathJaxConfig: 'local'};\n",
       "        if (window.MathJax) {MathJax.Hub.Config({SVG: {font: \"STIX-Web\"}});}\n",
       "        if (typeof require !== 'undefined') {\n",
       "        require.undef(\"plotly\");\n",
       "        requirejs.config({\n",
       "            paths: {\n",
       "                'plotly': ['https://cdn.plot.ly/plotly-2.11.1.min']\n",
       "            }\n",
       "        });\n",
       "        require(['plotly'], function(Plotly) {\n",
       "            window._Plotly = Plotly;\n",
       "        });\n",
       "        }\n",
       "        </script>\n",
       "        "
      ]
     },
     "metadata": {},
     "output_type": "display_data"
    },
    {
     "data": {
      "text/html": [
       "        <script type=\"text/javascript\">\n",
       "        window.PlotlyConfig = {MathJaxConfig: 'local'};\n",
       "        if (window.MathJax) {MathJax.Hub.Config({SVG: {font: \"STIX-Web\"}});}\n",
       "        if (typeof require !== 'undefined') {\n",
       "        require.undef(\"plotly\");\n",
       "        requirejs.config({\n",
       "            paths: {\n",
       "                'plotly': ['https://cdn.plot.ly/plotly-2.11.1.min']\n",
       "            }\n",
       "        });\n",
       "        require(['plotly'], function(Plotly) {\n",
       "            window._Plotly = Plotly;\n",
       "        });\n",
       "        }\n",
       "        </script>\n",
       "        "
      ]
     },
     "metadata": {},
     "output_type": "display_data"
    }
   ],
   "source": [
    "# Importación de librerías para la visualización de datos\n",
    "\n",
    "import seaborn as sns\n",
    "from matplotlib import pyplot\n",
    "import matplotlib.pyplot as plt\n",
    "import matplotlib.pylab as pylab\n",
    "import matplotlib\n",
    "%matplotlib inline\n",
    "color = sns.color_palette()\n",
    "from IPython.display import display\n",
    "pd.options.display.max_columns = None\n",
    "# Standard plotly imports\n",
    "from chart_studio import plotly\n",
    "# from plotly import plotly as py\n",
    "import plotly as py\n",
    "import plotly.figure_factory as ff\n",
    "import plotly.graph_objs as go\n",
    "from plotly.offline import download_plotlyjs, init_notebook_mode, plot, iplot\n",
    "init_notebook_mode(connected=True)\n",
    "#py.initnotebookmode(connected=True) # este código, nos permite trabajar con la versión plotly offline\n",
    "# Usamos plotly + cufflinks en modo offline \n",
    "import cufflinks as cf\n",
    "cf.set_config_file(offline=True)\n",
    "import cufflinks\n",
    "cufflinks.go_offline(connected=True)"
   ]
  },
  {
   "cell_type": "code",
   "execution_count": 4,
   "id": "920724c5",
   "metadata": {},
   "outputs": [
    {
     "name": "stdout",
     "output_type": "stream",
     "text": [
      "Shape of dataframe is: (5, 24)\n"
     ]
    }
   ],
   "source": [
    "# Read Excel file\n",
    "pendulo = pd.read_csv('Péndulo.csv')\n",
    "print(\"Shape of dataframe is: {}\".format(pendulo.shape))"
   ]
  },
  {
   "cell_type": "code",
   "execution_count": 8,
   "id": "0dc1edeb",
   "metadata": {},
   "outputs": [
    {
     "data": {
      "text/html": [
       "<div>\n",
       "<style scoped>\n",
       "    .dataframe tbody tr th:only-of-type {\n",
       "        vertical-align: middle;\n",
       "    }\n",
       "\n",
       "    .dataframe tbody tr th {\n",
       "        vertical-align: top;\n",
       "    }\n",
       "\n",
       "    .dataframe thead th {\n",
       "        text-align: right;\n",
       "    }\n",
       "</style>\n",
       "<table border=\"1\" class=\"dataframe\">\n",
       "  <thead>\n",
       "    <tr style=\"text-align: right;\">\n",
       "      <th></th>\n",
       "      <th>Longitud (m)</th>\n",
       "      <th>Error de longitud (m)</th>\n",
       "      <th>Tiempo 1 (s)</th>\n",
       "      <th>Error de tiempo 1 (s)</th>\n",
       "      <th>Tiempo 2 (s)</th>\n",
       "      <th>Error de tiempo 2 (s)</th>\n",
       "      <th>Tiempo 3 (s)</th>\n",
       "      <th>Error de tiempo 3 (s)</th>\n",
       "      <th>Tiempo medio (s)</th>\n",
       "      <th>Error de tiempo medio (s)</th>\n",
       "      <th>Tiempo medio al cuadrado (s^2)</th>\n",
       "      <th>Error de tiempo medio al cuadrado (s^2)</th>\n",
       "      <th>Ángulo (rad)</th>\n",
       "      <th>Error de ángulo (rad)</th>\n",
       "      <th>Seno al cuadrado de mitad el ángulo (rad^2)</th>\n",
       "      <th>Error de seno al cuadrado de mitad el ángulo (rad^2)</th>\n",
       "      <th>Tiempo 1 (s).1</th>\n",
       "      <th>Error de tiempo 1 (s).1</th>\n",
       "      <th>Tiempo 2 (s).1</th>\n",
       "      <th>Error de tiempo 2 (s).1</th>\n",
       "      <th>Tiempo 3 (s).1</th>\n",
       "      <th>Error de tiempo 3 (s).1</th>\n",
       "      <th>Tiempo medio (s).1</th>\n",
       "      <th>Error de tiempo medio (s).1</th>\n",
       "    </tr>\n",
       "  </thead>\n",
       "  <tbody>\n",
       "    <tr>\n",
       "      <th>0</th>\n",
       "      <td>0.15</td>\n",
       "      <td>0.001</td>\n",
       "      <td>0.65664</td>\n",
       "      <td>0.00002</td>\n",
       "      <td>0.66622</td>\n",
       "      <td>0.00002</td>\n",
       "      <td>0.63844</td>\n",
       "      <td>0.00002</td>\n",
       "      <td>0.65377</td>\n",
       "      <td>0.00002</td>\n",
       "      <td>0.42741</td>\n",
       "      <td>0.000026</td>\n",
       "      <td>0.35</td>\n",
       "      <td>0.02</td>\n",
       "      <td>0.030</td>\n",
       "      <td>0.003</td>\n",
       "      <td>1.33992</td>\n",
       "      <td>0.00002</td>\n",
       "      <td>1.34232</td>\n",
       "      <td>0.00002</td>\n",
       "      <td>1.33980</td>\n",
       "      <td>0.00002</td>\n",
       "      <td>1.34068</td>\n",
       "      <td>0.00002</td>\n",
       "    </tr>\n",
       "    <tr>\n",
       "      <th>1</th>\n",
       "      <td>0.20</td>\n",
       "      <td>0.001</td>\n",
       "      <td>0.89970</td>\n",
       "      <td>0.00002</td>\n",
       "      <td>0.90036</td>\n",
       "      <td>0.00002</td>\n",
       "      <td>0.89972</td>\n",
       "      <td>0.00002</td>\n",
       "      <td>0.89993</td>\n",
       "      <td>0.00002</td>\n",
       "      <td>0.80987</td>\n",
       "      <td>0.000036</td>\n",
       "      <td>0.52</td>\n",
       "      <td>0.02</td>\n",
       "      <td>0.067</td>\n",
       "      <td>0.004</td>\n",
       "      <td>1.35924</td>\n",
       "      <td>0.00002</td>\n",
       "      <td>1.36100</td>\n",
       "      <td>0.00002</td>\n",
       "      <td>1.36338</td>\n",
       "      <td>0.00002</td>\n",
       "      <td>1.36121</td>\n",
       "      <td>0.00002</td>\n",
       "    </tr>\n",
       "    <tr>\n",
       "      <th>2</th>\n",
       "      <td>0.30</td>\n",
       "      <td>0.001</td>\n",
       "      <td>0.94070</td>\n",
       "      <td>0.00002</td>\n",
       "      <td>0.94356</td>\n",
       "      <td>0.00002</td>\n",
       "      <td>0.95006</td>\n",
       "      <td>0.00002</td>\n",
       "      <td>0.94477</td>\n",
       "      <td>0.00002</td>\n",
       "      <td>0.89260</td>\n",
       "      <td>0.000038</td>\n",
       "      <td>0.70</td>\n",
       "      <td>0.02</td>\n",
       "      <td>0.117</td>\n",
       "      <td>0.006</td>\n",
       "      <td>1.37808</td>\n",
       "      <td>0.00002</td>\n",
       "      <td>1.37892</td>\n",
       "      <td>0.00002</td>\n",
       "      <td>1.38036</td>\n",
       "      <td>0.00002</td>\n",
       "      <td>1.37912</td>\n",
       "      <td>0.00002</td>\n",
       "    </tr>\n",
       "    <tr>\n",
       "      <th>3</th>\n",
       "      <td>0.35</td>\n",
       "      <td>0.001</td>\n",
       "      <td>1.15288</td>\n",
       "      <td>0.00002</td>\n",
       "      <td>1.15448</td>\n",
       "      <td>0.00002</td>\n",
       "      <td>1.15874</td>\n",
       "      <td>0.00002</td>\n",
       "      <td>1.15537</td>\n",
       "      <td>0.00002</td>\n",
       "      <td>1.33487</td>\n",
       "      <td>0.000046</td>\n",
       "      <td>0.87</td>\n",
       "      <td>0.02</td>\n",
       "      <td>0.179</td>\n",
       "      <td>0.007</td>\n",
       "      <td>1.41236</td>\n",
       "      <td>0.00002</td>\n",
       "      <td>1.41182</td>\n",
       "      <td>0.00002</td>\n",
       "      <td>1.41192</td>\n",
       "      <td>0.00002</td>\n",
       "      <td>1.41203</td>\n",
       "      <td>0.00002</td>\n",
       "    </tr>\n",
       "    <tr>\n",
       "      <th>4</th>\n",
       "      <td>0.45</td>\n",
       "      <td>0.001</td>\n",
       "      <td>1.37742</td>\n",
       "      <td>0.00002</td>\n",
       "      <td>1.38826</td>\n",
       "      <td>0.00002</td>\n",
       "      <td>1.38154</td>\n",
       "      <td>0.00002</td>\n",
       "      <td>1.38241</td>\n",
       "      <td>0.00002</td>\n",
       "      <td>1.91105</td>\n",
       "      <td>0.000055</td>\n",
       "      <td>1.05</td>\n",
       "      <td>0.02</td>\n",
       "      <td>0.250</td>\n",
       "      <td>0.008</td>\n",
       "      <td>1.44234</td>\n",
       "      <td>0.00002</td>\n",
       "      <td>1.44002</td>\n",
       "      <td>0.00002</td>\n",
       "      <td>1.44490</td>\n",
       "      <td>0.00002</td>\n",
       "      <td>1.44242</td>\n",
       "      <td>0.00002</td>\n",
       "    </tr>\n",
       "  </tbody>\n",
       "</table>\n",
       "</div>"
      ],
      "text/plain": [
       "   Longitud (m)  Error de longitud (m)  Tiempo 1 (s)  Error de tiempo 1 (s)  \\\n",
       "0          0.15                  0.001       0.65664                0.00002   \n",
       "1          0.20                  0.001       0.89970                0.00002   \n",
       "2          0.30                  0.001       0.94070                0.00002   \n",
       "3          0.35                  0.001       1.15288                0.00002   \n",
       "4          0.45                  0.001       1.37742                0.00002   \n",
       "\n",
       "   Tiempo 2 (s)  Error de tiempo 2 (s)  Tiempo 3 (s)  Error de tiempo 3 (s)  \\\n",
       "0       0.66622                0.00002       0.63844                0.00002   \n",
       "1       0.90036                0.00002       0.89972                0.00002   \n",
       "2       0.94356                0.00002       0.95006                0.00002   \n",
       "3       1.15448                0.00002       1.15874                0.00002   \n",
       "4       1.38826                0.00002       1.38154                0.00002   \n",
       "\n",
       "   Tiempo medio (s)  Error de tiempo medio (s)  \\\n",
       "0           0.65377                    0.00002   \n",
       "1           0.89993                    0.00002   \n",
       "2           0.94477                    0.00002   \n",
       "3           1.15537                    0.00002   \n",
       "4           1.38241                    0.00002   \n",
       "\n",
       "   Tiempo medio al cuadrado (s^2)  Error de tiempo medio al cuadrado (s^2)  \\\n",
       "0                         0.42741                                 0.000026   \n",
       "1                         0.80987                                 0.000036   \n",
       "2                         0.89260                                 0.000038   \n",
       "3                         1.33487                                 0.000046   \n",
       "4                         1.91105                                 0.000055   \n",
       "\n",
       "   Ángulo (rad)  Error de ángulo (rad)  \\\n",
       "0          0.35                   0.02   \n",
       "1          0.52                   0.02   \n",
       "2          0.70                   0.02   \n",
       "3          0.87                   0.02   \n",
       "4          1.05                   0.02   \n",
       "\n",
       "   Seno al cuadrado de mitad el ángulo (rad^2)  \\\n",
       "0                                        0.030   \n",
       "1                                        0.067   \n",
       "2                                        0.117   \n",
       "3                                        0.179   \n",
       "4                                        0.250   \n",
       "\n",
       "   Error de seno al cuadrado de mitad el ángulo (rad^2)  Tiempo 1 (s).1  \\\n",
       "0                                              0.003            1.33992   \n",
       "1                                              0.004            1.35924   \n",
       "2                                              0.006            1.37808   \n",
       "3                                              0.007            1.41236   \n",
       "4                                              0.008            1.44234   \n",
       "\n",
       "   Error de tiempo 1 (s).1  Tiempo 2 (s).1  Error de tiempo 2 (s).1  \\\n",
       "0                  0.00002         1.34232                  0.00002   \n",
       "1                  0.00002         1.36100                  0.00002   \n",
       "2                  0.00002         1.37892                  0.00002   \n",
       "3                  0.00002         1.41182                  0.00002   \n",
       "4                  0.00002         1.44002                  0.00002   \n",
       "\n",
       "   Tiempo 3 (s).1  Error de tiempo 3 (s).1  Tiempo medio (s).1  \\\n",
       "0         1.33980                  0.00002             1.34068   \n",
       "1         1.36338                  0.00002             1.36121   \n",
       "2         1.38036                  0.00002             1.37912   \n",
       "3         1.41192                  0.00002             1.41203   \n",
       "4         1.44490                  0.00002             1.44242   \n",
       "\n",
       "   Error de tiempo medio (s).1  \n",
       "0                      0.00002  \n",
       "1                      0.00002  \n",
       "2                      0.00002  \n",
       "3                      0.00002  \n",
       "4                      0.00002  "
      ]
     },
     "execution_count": 8,
     "metadata": {},
     "output_type": "execute_result"
    }
   ],
   "source": [
    "pendulo"
   ]
  },
  {
   "cell_type": "code",
   "execution_count": 9,
   "id": "bbfea733",
   "metadata": {},
   "outputs": [
    {
     "data": {
      "text/plain": [
       "Longitud (m)                                            float64\n",
       "Error de longitud (m)                                   float64\n",
       "Tiempo 1 (s)                                            float64\n",
       "Error de tiempo 1 (s)                                   float64\n",
       "Tiempo 2 (s)                                            float64\n",
       "Error de tiempo 2 (s)                                   float64\n",
       "Tiempo 3 (s)                                            float64\n",
       "Error de tiempo 3 (s)                                   float64\n",
       "Tiempo medio (s)                                        float64\n",
       "Error de tiempo medio (s)                               float64\n",
       "Tiempo medio al cuadrado (s^2)                          float64\n",
       "Error de tiempo medio al cuadrado (s^2)                 float64\n",
       "Ángulo (rad)                                            float64\n",
       "Error de ángulo (rad)                                   float64\n",
       "Seno al cuadrado de mitad el ángulo (rad^2)             float64\n",
       "Error de seno al cuadrado de mitad el ángulo (rad^2)    float64\n",
       "Tiempo 1 (s).1                                          float64\n",
       "Error de tiempo 1 (s).1                                 float64\n",
       "Tiempo 2 (s).1                                          float64\n",
       "Error de tiempo 2 (s).1                                 float64\n",
       "Tiempo 3 (s).1                                          float64\n",
       "Error de tiempo 3 (s).1                                 float64\n",
       "Tiempo medio (s).1                                      float64\n",
       "Error de tiempo medio (s).1                             float64\n",
       "dtype: object"
      ]
     },
     "execution_count": 9,
     "metadata": {},
     "output_type": "execute_result"
    }
   ],
   "source": [
    "pendulo.dtypes"
   ]
  },
  {
   "cell_type": "code",
   "execution_count": 6,
   "id": "2d1ce080",
   "metadata": {},
   "outputs": [
    {
     "data": {
      "image/png": "[encoded data removed]",
      "text/plain": [
       "<Figure size 640x480 with 1 Axes>"
      ]
     },
     "metadata": {},
     "output_type": "display_data"
    }
   ],
   "source": [
    "import plotnine as p9\n",
    "myplot = (p9.ggplot(data=pendulo,\n",
    "                    mapping=p9.aes(x='Tiempo medio al cuadrado (s^2)', y='Longitud (m)')) +\n",
    "              p9.geom_point())\n",
    "\n",
    "# convierte el output de plotnine a un objeto de matplotlib\n",
    "my_plt_version = myplot.draw()\n",
    "\n",
    "# Realiza más ajustes al gráfico con matplotlib:\n",
    "p9_ax = my_plt_version.axes[0] # cada subgráfico es un ítem en una lista\n",
    "p9_ax.set_xlabel(\"Longitud (m)\", color = 'g')\n",
    "p9_ax.set_ylabel(\"Tiempo medio al cuadrado (s^2)\", color = 'g')\n",
    "p9_ax.tick_params(labelsize=16, pad=8)\n",
    "p9_ax.set_title('Longitud vs Tiempo medio al cuadrado', fontsize=15, color = 'b')\n",
    "plt.show() # esto no es necesario en Jupyter Notebooks"
   ]
  },
  {
   "cell_type": "code",
   "execution_count": 1,
   "id": "a648ce7a",
   "metadata": {},
   "outputs": [],
   "source": [
    "import pandas as pd\n",
    "import numpy as np\n",
    "from sklearn import datasets, linear_model\n",
    "from sklearn.metrics import mean_squared_error, r2_score\n",
    "import matplotlib.pyplot as plt\n",
    "pendulo = pd.read_csv(\"Péndulo.csv\")"
   ]
  },
  {
   "cell_type": "code",
   "execution_count": 2,
   "id": "bc4f3f84",
   "metadata": {},
   "outputs": [],
   "source": [
    "# Vamos a determinar el retraso en la llegada a partir del retraso en la salida.\n",
    "# Ambas variables están muy correlacionadas.\n",
    "pendulo = pendulo.dropna(subset = [\"Longitud (m)\"])\n",
    "# Vamos a determinar predecir el retraso en la llegada ArrDelay a partir del retraso en la salida DepDelay\n",
    "Y = pendulo[\"Tiempo medio al cuadrado (s^2)\"]\n",
    "X = pendulo[[\"Longitud (m)\"]]"
   ]
  },
  {
   "cell_type": "code",
   "execution_count": 3,
   "id": "d59890bd",
   "metadata": {},
   "outputs": [
    {
     "name": "stdout",
     "output_type": "stream",
     "text": [
      "Coeficientes:  [4.59755263]\n",
      "R cuadrado:  0.93438168092597\n"
     ]
    }
   ],
   "source": [
    "# A continuación ajustamos el modelo.\n",
    "regr = linear_model.LinearRegression()\n",
    "# Ajuste con X e Y definidos con anterioridad.\n",
    "regr.fit(X, Y)\n",
    "\n",
    "# Imprimimos el valor de las Betas... corresponden con los coeficientes de las variables dependientes \n",
    "# (en este caso sólo hay una).\n",
    "print(\"Coeficientes: \", regr.coef_)\n",
    "\n",
    "Y_pred = regr.predict(X)\n",
    "# R2 nos va a decir cuán bueno es el modelo, cuanto más próximo a 1, el modelo es mejor.\n",
    "print(\"R cuadrado: \", r2_score(Y, Y_pred))"
   ]
  },
  {
   "cell_type": "code",
   "execution_count": 4,
   "id": "c89fa97c",
   "metadata": {},
   "outputs": [
    {
     "data": {
      "image/png": "[encoded data removed]",
      "text/plain": [
       "<Figure size 432x288 with 1 Axes>"
      ]
     },
     "metadata": {
      "needs_background": "light"
     },
     "output_type": "display_data"
    }
   ],
   "source": [
    "# Mostramos los resultados de forma gráfica, junto con la recta de regresión.\n",
    "plt.scatter(X[0:1000], Y[0:1000], color = \"black\")\n",
    "plt.plot(X[0:1000], Y_pred[0:1000], color = \"blue\")\n",
    "plt.show()"
   ]
  },
  {
   "cell_type": "code",
   "execution_count": null,
   "id": "9eeee744",
   "metadata": {},
   "outputs": [],
   "source": []
  }
 ],
 "metadata": {
  "kernelspec": {
   "display_name": "Python 3",
   "language": "python",
   "name": "python3"
  },
  "language_info": {
   "codemirror_mode": {
    "name": "ipython",
    "version": 3
   },
   "file_extension": ".py",
   "mimetype": "text/x-python",
   "name": "python",
   "nbconvert_exporter": "python",
   "pygments_lexer": "ipython3",
   "version": "3.8.8"
  }
 },
 "nbformat": 4,
 "nbformat_minor": 5
}
